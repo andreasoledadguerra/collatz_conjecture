{
 "cells": [
  {
   "cell_type": "code",
   "execution_count": null,
   "metadata": {},
   "outputs": [],
   "source": [
    "def steps(number:int) -> int:\n",
    "    even = number % 0\n",
    "\n",
    "    if number is even:\n",
    "        return number // 2\n",
    "    if number is not even:\n",
    "        return number * 3 + 1\n",
    "    else:\n",
    "        raise ValueError(\"Only positive integers are allowed\")"
   ]
  }
 ],
 "metadata": {
  "language_info": {
   "name": "python"
  }
 },
 "nbformat": 4,
 "nbformat_minor": 2
}
